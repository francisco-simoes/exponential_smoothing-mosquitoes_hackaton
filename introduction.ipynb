{
 "cells": [
  {
   "cell_type": "markdown",
   "metadata": {},
   "source": [
    "# Welcome to the Healthcare Hackathon"
   ]
  },
  {
   "cell_type": "markdown",
   "metadata": {},
   "source": [
    "This weekend you will be working on solving critical healthcare problems using your Data Science skills. This notebook will help you get up and running quickly with the data. But before we get to the data, first we need to configure a username and email."
   ]
  },
  {
   "cell_type": "code",
   "execution_count": null,
   "metadata": {},
   "outputs": [],
   "source": [
    "!git config --global user.name <your-username-here>\n",
    "!git config --global user.email <your-email-here>"
   ]
  },
  {
   "cell_type": "markdown",
   "metadata": {},
   "source": [
    "Next we need to setup a git branch. This is the branch you will use during the hackathon."
   ]
  },
  {
   "cell_type": "code",
   "execution_count": null,
   "metadata": {},
   "outputs": [],
   "source": [
    "# Fill in the name of your team as the branch name\n",
    "!git checkout -b <your-branch-name-here>\n",
    "!git push --set-upstream origin $(git rev-parse --abbrev-ref HEAD)"
   ]
  },
  {
   "cell_type": "markdown",
   "metadata": {},
   "source": [
    "Now you have a branch to work with. If you want to create commits and push your code you can execute the following snippet: `!git commit -a -m \"Add a descriptive message here for your commits\"`"
   ]
  },
  {
   "cell_type": "markdown",
   "metadata": {},
   "source": [
    "# Getting Started with the data"
   ]
  },
  {
   "cell_type": "markdown",
   "metadata": {},
   "source": [
    "Several data sets are available this weekend. Each data set can be downloaded from s3. For each subject in the hackathon we created a seperate folder. The following folders are available: CarePay, MCF, MomCare, NWH, RedCross, SafeCare, SatelliteImages. You can use the following code snippet to list the data in the s3 bucket and download the data:"

   ]
  },
  {
   "cell_type": "code",
   "execution_count": 7,
   "metadata": {},
   "outputs": [],
   "source": [
    "import boto3\n",
    "import pandas as pd\n",
    "from sagemaker import get_execution_role\n",
    "\n",
    "def list_data(folder):\n",
    "    \"\"\"\n",
    "    List all available data sets in the folder\n",
    "    \"\"\"\n",
    "    s3 = boto3.resource('s3')\n",
    "    bucket='cp-hackathon-data'\n",
    "    hackathon_data = s3.Bucket(bucket)\n",
    "    keys = []\n",
    "    for obj in my_bucket.objects.filter(Prefix=folder):\n",
    "        keys.append(my_bucket_object.key)\n",
    "    \n",
    "    return keys\n",
    "\n",
    "def get_data(key):\n",
    "    role = get_execution_role()\n",
    "    bucket='cp-hackathon-data'\n",
    "    data_location = 's3://{}/{}'.format(bucket, key)\n",
    "\n",
    "    return pd.read_csv(data_location)"
   ]
  },
  {
   "cell_type": "markdown",
   "metadata": {},
   "source": [
    "With the `get_data` function you can download the relevant dataset from s3. For the people that like R, you can achieve something similar with the following snippet:\n",
    "\n",
    "```\n",
    "library(reticulate)\n",
    "sagemaker <- import('sagemaker')\n",
    "session <- sagemaker$Session()\n",
    "role_arn <- sagemaker$get_execution_role()\n",
    "folder <- <fill in your folder here>\n",
    "session$list_s3_files('cp-hackathon-data', folder)\n",
    "session$read_s3_file('cp-hackathon-data', <some key in the bucket here>)\n",
    "```\n",
    "\n",
    "For more information on R, check out [this link to the documentation](https://sagemaker.readthedocs.io/en/stable/session.html#sagemaker.session.Session.read_s3_file)"
   ]
  },
  {
   "cell_type": "markdown",
   "metadata": {},
   "source": [
    "# Happy Hacking!"
   ]
  }
 ],
 "metadata": {
  "kernelspec": {
   "display_name": "conda_python3",
   "language": "python",
   "name": "conda_python3"
  },
  "language_info": {
   "codemirror_mode": {
    "name": "ipython",
    "version": 3
   },
   "file_extension": ".py",
   "mimetype": "text/x-python",
   "name": "python",
   "nbconvert_exporter": "python",
   "pygments_lexer": "ipython3",
   "version": "3.6.5"
  }
 },
 "nbformat": 4,
 "nbformat_minor": 4
}
