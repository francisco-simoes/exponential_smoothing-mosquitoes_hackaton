{
 "cells": [
  {
   "cell_type": "markdown",
   "metadata": {},
   "source": [
    "# Welcome to the Healthcare Hackathon"
   ]
  },
  {
   "cell_type": "markdown",
   "metadata": {},
   "source": [
    "This weekend you will be working on solving critical healthcare problems using your Data Science skills. This notebook will help you get up and running quickly with the data. But before we get to the data, first we need to configure a username and email."
   ]
  },
  {
   "cell_type": "code",
   "execution_count": 1,
   "metadata": {},
   "outputs": [],
   "source": [
    "!git config --global user.name Francisco\n",
    "!git config --global user.email francisconfqsimoes@gmail.com"
   ]
  },
  {
   "cell_type": "markdown",
   "metadata": {},
   "source": [
    "Next we need to setup a git branch. This is the branch you will use during the hackathon."
   ]
  },
  {
   "cell_type": "code",
   "execution_count": 2,
   "metadata": {},
   "outputs": [
    {
     "name": "stdout",
     "output_type": "stream",
     "text": [
      "M\tintroduction.ipynb\n",
      "Switched to a new branch 'mosquitopie_prod'\n",
      "Total 0 (delta 0), reused 0 (delta 0)\n",
      "To https://git-codecommit.eu-west-1.amazonaws.com/v1/repos/cp-hackathon-repository\n",
      " * [new branch]      mosquitopie_prod -> mosquitopie_prod\n",
      "Branch mosquitopie_prod set up to track remote branch mosquitopie_prod from origin.\n"
     ]
    }
   ],
   "source": [
    "# Fill in the name of your team as the branch name\n",
    "!git checkout -b mosquitopie_prod\n",
    "!git push --set-upstream origin $(git rev-parse --abbrev-ref HEAD)"
   ]
  },
  {
   "cell_type": "markdown",
   "metadata": {},
   "source": [
    "Now you have a branch to work with. If you want to create commits and push your code you can execute the following snippet: `!git commit -a -m \"Add a descriptive message here for your commits\"`"
   ]
  },
  {
   "cell_type": "markdown",
   "metadata": {},
   "source": [
    "# Getting Started with the data"
   ]
  },
  {
   "cell_type": "markdown",
   "metadata": {},
   "source": [
    "Several data sets are available this weekend. Each data set can be downloaded from s3. For each subject in the hackathon we created a seperate folder. The following folders are available: CarePay, MCF, MomCare, NWH, RedCross, SafeCare, SatelliteImages. You can use the following code snippet to list the data in the s3 bucket and download the data:"
   ]
  },
  {
   "cell_type": "code",
   "execution_count": 11,
   "metadata": {},
   "outputs": [],
   "source": [
    "import boto3\n",
    "import pandas as pd\n",
    "from sagemaker import get_execution_role\n",
    "\n",
    "def list_data(folder):\n",
    "    \"\"\"\n",
    "    List all available data sets in the folder\n",
    "    \"\"\"\n",
    "    s3 = boto3.resource('s3')\n",
    "    bucket='cp-hackathon-data'\n",
    "    hackathon_data = s3.Bucket(bucket)\n",
    "    keys = []\n",
    "    for obj in hackathon_data.objects.filter(Prefix=folder):\n",
    "        keys.append(obj.key)\n",
    "    return keys\n",
    "def get_data(key):\n",
    "    role = get_execution_role()\n",
    "    bucket='cp-hackathon-data'\n",
    "    data_location = 's3://{}/{}'.format(bucket, key)\n",
    "    return pd.read_csv(data_location)"
   ]
  },
  {
   "cell_type": "markdown",
   "metadata": {},
   "source": [
    "With the `get_data` function you can download the relevant dataset from s3. For the people that like R, you can achieve something similar with the following snippet:\n",
    "\n",
    "```\n",
    "library(reticulate)\n",
    "sagemaker <- import('sagemaker')\n",
    "session <- sagemaker$Session()\n",
    "role_arn <- sagemaker$get_execution_role()\n",
    "folder <- <fill in your folder here>\n",
    "session$list_s3_files('cp-hackathon-data', folder)\n",
    "session$read_s3_file('cp-hackathon-data', <some key in the bucket here>)\n",
    "```\n",
    "\n",
    "For more information on R, check out [this link to the documentation](https://sagemaker.readthedocs.io/en/stable/session.html#sagemaker.session.Session.read_s3_file)"
   ]
  },
  {
   "cell_type": "code",
   "execution_count": 12,
   "metadata": {},
   "outputs": [
    {
     "data": {
      "text/plain": [
       "['RedCross/',\n",
       " 'RedCross/ovitrap_data.csv',\n",
       " 'RedCross/ovitrap_data_monthly_province.csv',\n",
       " 'RedCross/weather_data_monthly_province.csv']"
      ]
     },
     "execution_count": 12,
     "metadata": {},
     "output_type": "execute_result"
    }
   ],
   "source": [
    "list_data('RedCross')"
   ]
  },
  {
   "cell_type": "code",
   "execution_count": 20,
   "metadata": {},
   "outputs": [
    {
     "name": "stderr",
     "output_type": "stream",
     "text": [
      "Couldn't call 'get_role' to get Role ARN from role name cp-sagemaker-hackathon-role to get Role path.\n"
     ]
    }
   ],
   "source": [
    "data_ovitrap_per_school = get_data('RedCross/ovitrap_data.csv')"
   ]
  },
  {
   "cell_type": "code",
   "execution_count": 21,
   "metadata": {},
   "outputs": [
    {
     "name": "stderr",
     "output_type": "stream",
     "text": [
      "Couldn't call 'get_role' to get Role ARN from role name cp-sagemaker-hackathon-role to get Role path.\n"
     ]
    }
   ],
   "source": [
    "data_ovitrap_per_province = get_data('RedCross/ovitrap_data_monthly_province.csv')"
   ]
  },
  {
   "cell_type": "code",
   "execution_count": 15,
   "metadata": {},
   "outputs": [
    {
     "name": "stderr",
     "output_type": "stream",
     "text": [
      "Couldn't call 'get_role' to get Role ARN from role name cp-sagemaker-hackathon-role to get Role path.\n"
     ]
    }
   ],
   "source": [
    "data_weather = get_data('RedCross/weather_data_monthly_province.csv')"
   ]
  },
  {
   "cell_type": "markdown",
   "metadata": {},
   "source": [
    "# Happy Hacking!"
   ]
  },
  {
   "cell_type": "code",
   "execution_count": 23,
   "metadata": {},
   "outputs": [
    {
     "data": {
      "text/html": [
       "<div>\n",
       "<style scoped>\n",
       "    .dataframe tbody tr th:only-of-type {\n",
       "        vertical-align: middle;\n",
       "    }\n",
       "\n",
       "    .dataframe tbody tr th {\n",
       "        vertical-align: top;\n",
       "    }\n",
       "\n",
       "    .dataframe thead th {\n",
       "        text-align: right;\n",
       "    }\n",
       "</style>\n",
       "<table border=\"1\" class=\"dataframe\">\n",
       "  <thead>\n",
       "    <tr style=\"text-align: right;\">\n",
       "      <th></th>\n",
       "      <th>Unnamed: 0</th>\n",
       "      <th>date</th>\n",
       "      <th>id</th>\n",
       "      <th>latitude</th>\n",
       "      <th>longitude</th>\n",
       "      <th>name</th>\n",
       "      <th>value</th>\n",
       "    </tr>\n",
       "  </thead>\n",
       "  <tbody>\n",
       "    <tr>\n",
       "      <th>0</th>\n",
       "      <td>0</td>\n",
       "      <td>2012-06-19</td>\n",
       "      <td>3</td>\n",
       "      <td>14.5044</td>\n",
       "      <td>121.056</td>\n",
       "      <td>Kapitan Jose Cardones Memorial School</td>\n",
       "      <td>17.31</td>\n",
       "    </tr>\n",
       "    <tr>\n",
       "      <th>1</th>\n",
       "      <td>1</td>\n",
       "      <td>2012-07-03</td>\n",
       "      <td>3</td>\n",
       "      <td>14.5044</td>\n",
       "      <td>121.056</td>\n",
       "      <td>Kapitan Jose Cardones Memorial School</td>\n",
       "      <td>15.52</td>\n",
       "    </tr>\n",
       "    <tr>\n",
       "      <th>2</th>\n",
       "      <td>2</td>\n",
       "      <td>2012-07-17</td>\n",
       "      <td>3</td>\n",
       "      <td>14.5044</td>\n",
       "      <td>121.056</td>\n",
       "      <td>Kapitan Jose Cardones Memorial School</td>\n",
       "      <td>30.00</td>\n",
       "    </tr>\n",
       "    <tr>\n",
       "      <th>3</th>\n",
       "      <td>3</td>\n",
       "      <td>2012-07-24</td>\n",
       "      <td>3</td>\n",
       "      <td>14.5044</td>\n",
       "      <td>121.056</td>\n",
       "      <td>Kapitan Jose Cardones Memorial School</td>\n",
       "      <td>22.64</td>\n",
       "    </tr>\n",
       "    <tr>\n",
       "      <th>4</th>\n",
       "      <td>4</td>\n",
       "      <td>2012-09-11</td>\n",
       "      <td>3</td>\n",
       "      <td>14.5044</td>\n",
       "      <td>121.056</td>\n",
       "      <td>Kapitan Jose Cardones Memorial School</td>\n",
       "      <td>28.13</td>\n",
       "    </tr>\n",
       "  </tbody>\n",
       "</table>\n",
       "</div>"
      ],
      "text/plain": [
       "   Unnamed: 0        date  id  latitude  longitude  \\\n",
       "0           0  2012-06-19   3   14.5044    121.056   \n",
       "1           1  2012-07-03   3   14.5044    121.056   \n",
       "2           2  2012-07-17   3   14.5044    121.056   \n",
       "3           3  2012-07-24   3   14.5044    121.056   \n",
       "4           4  2012-09-11   3   14.5044    121.056   \n",
       "\n",
       "                                    name  value  \n",
       "0  Kapitan Jose Cardones Memorial School  17.31  \n",
       "1  Kapitan Jose Cardones Memorial School  15.52  \n",
       "2  Kapitan Jose Cardones Memorial School  30.00  \n",
       "3  Kapitan Jose Cardones Memorial School  22.64  \n",
       "4  Kapitan Jose Cardones Memorial School  28.13  "
      ]
     },
     "execution_count": 23,
     "metadata": {},
     "output_type": "execute_result"
    }
   ],
   "source": [
    "data_ovitrap_per_school[:5]"
   ]
  },
  {
   "cell_type": "code",
   "execution_count": 34,
   "metadata": {},
   "outputs": [
    {
     "data": {
      "text/html": [
       "<div>\n",
       "<style scoped>\n",
       "    .dataframe tbody tr th:only-of-type {\n",
       "        vertical-align: middle;\n",
       "    }\n",
       "\n",
       "    .dataframe tbody tr th {\n",
       "        vertical-align: top;\n",
       "    }\n",
       "\n",
       "    .dataframe thead th {\n",
       "        text-align: right;\n",
       "    }\n",
       "</style>\n",
       "<table border=\"1\" class=\"dataframe\">\n",
       "  <thead>\n",
       "    <tr style=\"text-align: right;\">\n",
       "      <th></th>\n",
       "      <th>adm_level</th>\n",
       "      <th>date</th>\n",
       "      <th>count_ovi</th>\n",
       "      <th>mean_ovi</th>\n",
       "      <th>error_ovi</th>\n",
       "      <th>error_relative_ovi</th>\n",
       "    </tr>\n",
       "  </thead>\n",
       "  <tbody>\n",
       "    <tr>\n",
       "      <th>1000</th>\n",
       "      <td>Ifugao</td>\n",
       "      <td>2015-05-01</td>\n",
       "      <td>4.0</td>\n",
       "      <td>17.000000</td>\n",
       "      <td>0.000000</td>\n",
       "      <td>0.000000</td>\n",
       "    </tr>\n",
       "    <tr>\n",
       "      <th>1001</th>\n",
       "      <td>Ifugao</td>\n",
       "      <td>2015-06-01</td>\n",
       "      <td>0.0</td>\n",
       "      <td>NaN</td>\n",
       "      <td>NaN</td>\n",
       "      <td>NaN</td>\n",
       "    </tr>\n",
       "    <tr>\n",
       "      <th>1002</th>\n",
       "      <td>Ifugao</td>\n",
       "      <td>2015-07-01</td>\n",
       "      <td>32.0</td>\n",
       "      <td>17.283437</td>\n",
       "      <td>4.999864</td>\n",
       "      <td>0.289286</td>\n",
       "    </tr>\n",
       "    <tr>\n",
       "      <th>1003</th>\n",
       "      <td>Ifugao</td>\n",
       "      <td>2015-08-01</td>\n",
       "      <td>43.0</td>\n",
       "      <td>25.156279</td>\n",
       "      <td>4.983643</td>\n",
       "      <td>0.198107</td>\n",
       "    </tr>\n",
       "    <tr>\n",
       "      <th>1004</th>\n",
       "      <td>Ifugao</td>\n",
       "      <td>2015-09-01</td>\n",
       "      <td>44.0</td>\n",
       "      <td>27.520682</td>\n",
       "      <td>4.536097</td>\n",
       "      <td>0.164825</td>\n",
       "    </tr>\n",
       "  </tbody>\n",
       "</table>\n",
       "</div>"
      ],
      "text/plain": [
       "     adm_level        date  count_ovi   mean_ovi  error_ovi  \\\n",
       "1000    Ifugao  2015-05-01        4.0  17.000000   0.000000   \n",
       "1001    Ifugao  2015-06-01        0.0        NaN        NaN   \n",
       "1002    Ifugao  2015-07-01       32.0  17.283437   4.999864   \n",
       "1003    Ifugao  2015-08-01       43.0  25.156279   4.983643   \n",
       "1004    Ifugao  2015-09-01       44.0  27.520682   4.536097   \n",
       "\n",
       "      error_relative_ovi  \n",
       "1000            0.000000  \n",
       "1001                 NaN  \n",
       "1002            0.289286  \n",
       "1003            0.198107  \n",
       "1004            0.164825  "
      ]
     },
     "execution_count": 34,
     "metadata": {},
     "output_type": "execute_result"
    }
   ],
   "source": [
    "data_ovitrap_per_province[10:15] "
   ]
  },
  {
   "cell_type": "code",
   "execution_count": 35,
   "metadata": {},
   "outputs": [
    {
     "data": {
      "text/html": [
       "<div>\n",
       "<style scoped>\n",
       "    .dataframe tbody tr th:only-of-type {\n",
       "        vertical-align: middle;\n",
       "    }\n",
       "\n",
       "    .dataframe tbody tr th {\n",
       "        vertical-align: top;\n",
       "    }\n",
       "\n",
       "    .dataframe thead th {\n",
       "        text-align: right;\n",
       "    }\n",
       "</style>\n",
       "<table border=\"1\" class=\"dataframe\">\n",
       "  <thead>\n",
       "    <tr style=\"text-align: right;\">\n",
       "      <th></th>\n",
       "      <th>adm_level</th>\n",
       "      <th>date</th>\n",
       "      <th>count_ovi</th>\n",
       "      <th>mean_ovi</th>\n",
       "      <th>error_ovi</th>\n",
       "      <th>error_relative_ovi</th>\n",
       "    </tr>\n",
       "  </thead>\n",
       "  <tbody>\n",
       "    <tr>\n",
       "      <th>1000</th>\n",
       "      <td>Ifugao</td>\n",
       "      <td>2015-05-01</td>\n",
       "      <td>4.0</td>\n",
       "      <td>17.000000</td>\n",
       "      <td>0.000000</td>\n",
       "      <td>0.000000</td>\n",
       "    </tr>\n",
       "    <tr>\n",
       "      <th>1001</th>\n",
       "      <td>Ifugao</td>\n",
       "      <td>2015-06-01</td>\n",
       "      <td>0.0</td>\n",
       "      <td>NaN</td>\n",
       "      <td>NaN</td>\n",
       "      <td>NaN</td>\n",
       "    </tr>\n",
       "    <tr>\n",
       "      <th>1002</th>\n",
       "      <td>Ifugao</td>\n",
       "      <td>2015-07-01</td>\n",
       "      <td>32.0</td>\n",
       "      <td>17.283437</td>\n",
       "      <td>4.999864</td>\n",
       "      <td>0.289286</td>\n",
       "    </tr>\n",
       "    <tr>\n",
       "      <th>1003</th>\n",
       "      <td>Ifugao</td>\n",
       "      <td>2015-08-01</td>\n",
       "      <td>43.0</td>\n",
       "      <td>25.156279</td>\n",
       "      <td>4.983643</td>\n",
       "      <td>0.198107</td>\n",
       "    </tr>\n",
       "    <tr>\n",
       "      <th>1004</th>\n",
       "      <td>Ifugao</td>\n",
       "      <td>2015-09-01</td>\n",
       "      <td>44.0</td>\n",
       "      <td>27.520682</td>\n",
       "      <td>4.536097</td>\n",
       "      <td>0.164825</td>\n",
       "    </tr>\n",
       "  </tbody>\n",
       "</table>\n",
       "</div>"
      ],
      "text/plain": [
       "     adm_level        date  count_ovi   mean_ovi  error_ovi  \\\n",
       "1000    Ifugao  2015-05-01        4.0  17.000000   0.000000   \n",
       "1001    Ifugao  2015-06-01        0.0        NaN        NaN   \n",
       "1002    Ifugao  2015-07-01       32.0  17.283437   4.999864   \n",
       "1003    Ifugao  2015-08-01       43.0  25.156279   4.983643   \n",
       "1004    Ifugao  2015-09-01       44.0  27.520682   4.536097   \n",
       "\n",
       "      error_relative_ovi  \n",
       "1000            0.000000  \n",
       "1001                 NaN  \n",
       "1002            0.289286  \n",
       "1003            0.198107  \n",
       "1004            0.164825  "
      ]
     },
     "execution_count": 35,
     "metadata": {},
     "output_type": "execute_result"
    }
   ],
   "source": [
    "data_ovitrap_per_province[1000:1005]"
   ]
  },
  {
   "cell_type": "code",
   "execution_count": 25,
   "metadata": {
    "jupyter": {
     "source_hidden": true
    }
   },
   "outputs": [
    {
     "data": {
      "text/html": [
       "<div>\n",
       "<style scoped>\n",
       "    .dataframe tbody tr th:only-of-type {\n",
       "        vertical-align: middle;\n",
       "    }\n",
       "\n",
       "    .dataframe tbody tr th {\n",
       "        vertical-align: top;\n",
       "    }\n",
       "\n",
       "    .dataframe thead th {\n",
       "        text-align: right;\n",
       "    }\n",
       "</style>\n",
       "<table border=\"1\" class=\"dataframe\">\n",
       "  <thead>\n",
       "    <tr style=\"text-align: right;\">\n",
       "      <th></th>\n",
       "      <th>adm_level</th>\n",
       "      <th>date</th>\n",
       "      <th>JAXA_GPM_L3_GSMaP_v6_operational_hourlyPrecipRateGC</th>\n",
       "      <th>MODIS_006_MOD11A1_LST_Day_1km</th>\n",
       "      <th>MODIS_006_MOD11A1_LST_Night_1km</th>\n",
       "      <th>MODIS_006_MYD13A1_EVI</th>\n",
       "      <th>NASA_FLDAS_NOAH01_C_GL_M_V001_Qair_f_tavg</th>\n",
       "      <th>NASA_FLDAS_NOAH01_C_GL_M_V001_Rainf_f_tavg</th>\n",
       "      <th>NASA_FLDAS_NOAH01_C_GL_M_V001_SoilMoi00_10cm_tavg</th>\n",
       "      <th>NASA_FLDAS_NOAH01_C_GL_M_V001_SoilTemp00_10cm_tavg</th>\n",
       "      <th>NASA_FLDAS_NOAH01_C_GL_M_V001_Tair_f_tavg</th>\n",
       "      <th>NASA_FLDAS_NOAH01_C_GL_M_V001_Wind_f_tavg</th>\n",
       "    </tr>\n",
       "  </thead>\n",
       "  <tbody>\n",
       "    <tr>\n",
       "      <th>0</th>\n",
       "      <td>Abra</td>\n",
       "      <td>2012-06-01</td>\n",
       "      <td>0.430867</td>\n",
       "      <td>15043.5540</td>\n",
       "      <td>14639.858</td>\n",
       "      <td>4180.8150</td>\n",
       "      <td>0.016763</td>\n",
       "      <td>0.000172</td>\n",
       "      <td>0.425508</td>\n",
       "      <td>296.31796</td>\n",
       "      <td>297.09457</td>\n",
       "      <td>4.977150</td>\n",
       "    </tr>\n",
       "    <tr>\n",
       "      <th>1</th>\n",
       "      <td>Abra</td>\n",
       "      <td>2012-07-01</td>\n",
       "      <td>0.373154</td>\n",
       "      <td>15020.1080</td>\n",
       "      <td>14632.604</td>\n",
       "      <td>3662.6284</td>\n",
       "      <td>0.016362</td>\n",
       "      <td>0.000186</td>\n",
       "      <td>0.428822</td>\n",
       "      <td>295.84708</td>\n",
       "      <td>296.72488</td>\n",
       "      <td>3.478785</td>\n",
       "    </tr>\n",
       "    <tr>\n",
       "      <th>2</th>\n",
       "      <td>Abra</td>\n",
       "      <td>2012-08-01</td>\n",
       "      <td>0.620665</td>\n",
       "      <td>14917.0320</td>\n",
       "      <td>14486.046</td>\n",
       "      <td>3183.5750</td>\n",
       "      <td>0.016541</td>\n",
       "      <td>0.000245</td>\n",
       "      <td>0.432180</td>\n",
       "      <td>295.66570</td>\n",
       "      <td>296.15265</td>\n",
       "      <td>6.328744</td>\n",
       "    </tr>\n",
       "    <tr>\n",
       "      <th>3</th>\n",
       "      <td>Abra</td>\n",
       "      <td>2012-09-01</td>\n",
       "      <td>0.106620</td>\n",
       "      <td>14980.0205</td>\n",
       "      <td>14696.892</td>\n",
       "      <td>4785.5340</td>\n",
       "      <td>0.015967</td>\n",
       "      <td>0.000099</td>\n",
       "      <td>0.419719</td>\n",
       "      <td>296.26144</td>\n",
       "      <td>296.81122</td>\n",
       "      <td>3.009687</td>\n",
       "    </tr>\n",
       "    <tr>\n",
       "      <th>4</th>\n",
       "      <td>Abra</td>\n",
       "      <td>2012-10-01</td>\n",
       "      <td>0.053113</td>\n",
       "      <td>14986.9280</td>\n",
       "      <td>14666.716</td>\n",
       "      <td>4770.0083</td>\n",
       "      <td>0.014127</td>\n",
       "      <td>0.000039</td>\n",
       "      <td>0.390687</td>\n",
       "      <td>295.36737</td>\n",
       "      <td>295.53925</td>\n",
       "      <td>4.924677</td>\n",
       "    </tr>\n",
       "  </tbody>\n",
       "</table>\n",
       "</div>"
      ],
      "text/plain": [
       "  adm_level        date  JAXA_GPM_L3_GSMaP_v6_operational_hourlyPrecipRateGC  \\\n",
       "0      Abra  2012-06-01                                           0.430867     \n",
       "1      Abra  2012-07-01                                           0.373154     \n",
       "2      Abra  2012-08-01                                           0.620665     \n",
       "3      Abra  2012-09-01                                           0.106620     \n",
       "4      Abra  2012-10-01                                           0.053113     \n",
       "\n",
       "   MODIS_006_MOD11A1_LST_Day_1km  MODIS_006_MOD11A1_LST_Night_1km  \\\n",
       "0                     15043.5540                        14639.858   \n",
       "1                     15020.1080                        14632.604   \n",
       "2                     14917.0320                        14486.046   \n",
       "3                     14980.0205                        14696.892   \n",
       "4                     14986.9280                        14666.716   \n",
       "\n",
       "   MODIS_006_MYD13A1_EVI  NASA_FLDAS_NOAH01_C_GL_M_V001_Qair_f_tavg  \\\n",
       "0              4180.8150                                   0.016763   \n",
       "1              3662.6284                                   0.016362   \n",
       "2              3183.5750                                   0.016541   \n",
       "3              4785.5340                                   0.015967   \n",
       "4              4770.0083                                   0.014127   \n",
       "\n",
       "   NASA_FLDAS_NOAH01_C_GL_M_V001_Rainf_f_tavg  \\\n",
       "0                                    0.000172   \n",
       "1                                    0.000186   \n",
       "2                                    0.000245   \n",
       "3                                    0.000099   \n",
       "4                                    0.000039   \n",
       "\n",
       "   NASA_FLDAS_NOAH01_C_GL_M_V001_SoilMoi00_10cm_tavg  \\\n",
       "0                                           0.425508   \n",
       "1                                           0.428822   \n",
       "2                                           0.432180   \n",
       "3                                           0.419719   \n",
       "4                                           0.390687   \n",
       "\n",
       "   NASA_FLDAS_NOAH01_C_GL_M_V001_SoilTemp00_10cm_tavg  \\\n",
       "0                                          296.31796    \n",
       "1                                          295.84708    \n",
       "2                                          295.66570    \n",
       "3                                          296.26144    \n",
       "4                                          295.36737    \n",
       "\n",
       "   NASA_FLDAS_NOAH01_C_GL_M_V001_Tair_f_tavg  \\\n",
       "0                                  297.09457   \n",
       "1                                  296.72488   \n",
       "2                                  296.15265   \n",
       "3                                  296.81122   \n",
       "4                                  295.53925   \n",
       "\n",
       "   NASA_FLDAS_NOAH01_C_GL_M_V001_Wind_f_tavg  \n",
       "0                                   4.977150  \n",
       "1                                   3.478785  \n",
       "2                                   6.328744  \n",
       "3                                   3.009687  \n",
       "4                                   4.924677  "
      ]
     },
     "execution_count": 25,
     "metadata": {},
     "output_type": "execute_result"
    }
   ],
   "source": [
    "data_weather[:5]"
   ]
  },
  {
   "cell_type": "code",
   "execution_count": 37,
   "metadata": {},
   "outputs": [
    {
     "name": "stdout",
     "output_type": "stream",
     "text": [
      "province shape: (8256, 6), weather shape: (6873, 12)\n"
     ]
    }
   ],
   "source": [
    "print('province shape: {}, weather shape: {}'.format(data_ovitrap_per_province.shape, data_weather.shape))"
   ]
  }
 ],
 "metadata": {
  "kernelspec": {
   "display_name": "conda_python3",
   "language": "python",
   "name": "conda_python3"
  },
  "language_info": {
   "codemirror_mode": {
    "name": "ipython",
    "version": 3
   },
   "file_extension": ".py",
   "mimetype": "text/x-python",
   "name": "python",
   "nbconvert_exporter": "python",
   "pygments_lexer": "ipython3",
   "version": "3.6.5"
  }
 },
 "nbformat": 4,
 "nbformat_minor": 4
}
